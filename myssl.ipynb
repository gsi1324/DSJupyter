{
 "cells": [
  {
   "cell_type": "markdown",
   "id": "0a49fd42",
   "metadata": {},
   "source": [
    "# 과제내용\n",
    " ## 이미 제공한 ssl.py에 다음 3가지 기능(함수)을 추가합니다.\n",
    "    • traverse_all()\n",
    "       – head부터 tail까지 각 노드를 순차적으로 탐색하며 각 노드의 data를 print한다.\n",
    "       – 출력 형식:  head -> (100) -> (72) -> (325) -> null\n",
    "    •  insert_at(position, new_data)\n",
    "       – 리스트의 주어진 위치(position)에 new_data를 삽입한다.\n",
    "       – 이 때, 맨 첫 원소의 위치는 1로 정하며, 0 이하의 position 값이 입력되면 error 문을 출력한다.\n",
    "       – 만일 position이 현재 리스트의 크기(원소 갯수)보다 크면 맨 마지막에 new_data를 삽입한다.\n",
    "    • remove(key)\n",
    "       – 리스트의 원소 가운데 key값과 일치하는 원소를 모두 삭제하고, 리스트를 수정한다.\n",
    "       – 이 때, 처리 결과를 다음 예와 같이 출력한다.\n",
    "           * 3번째 원소(key)를 삭제합니다. \n",
    "           * 해당하는 원소가 없습니다."
   ]
  },
  {
   "cell_type": "markdown",
   "id": "be258093",
   "metadata": {},
   "source": [
    "## 원본 ssl.py"
   ]
  },
  {
   "cell_type": "code",
   "execution_count": 3,
   "id": "f40ef8c7",
   "metadata": {},
   "outputs": [],
   "source": [
    "# Node 클래스 정의\n",
    "class Node:\n",
    "\tdef __init__(self, data):\n",
    "\t\tself.data = data\n",
    "\t\tself.next = None\n",
    "\n",
    "\n",
    "# LinkedList 클래스 정의\n",
    "class LinkedList:\n",
    "\n",
    "\t# 초기화 메소드\n",
    "\tdef __init__(self):\n",
    "\t\tdummy = Node(\"dummy\")\n",
    "\t\tself.head = dummy\n",
    "\t\tself.tail = dummy\n",
    "\n",
    "\t\tself.current = None\n",
    "\t\tself.before = None\n",
    "\n",
    "\t\tself.num_of_data = 0\n",
    "\n",
    "\t# append 메소드 (insert - 맨 뒤에 노드 추가, tail과 node의 next, 데이터 개수 변경)\n",
    "\tdef append(self, data):\n",
    "\t\tnew_node = Node(data)\n",
    "\t\tself.tail.next = new_node\n",
    "\t\tself.tail = new_node\n",
    "\n",
    "\t\tself.num_of_data += 1\n",
    "\n",
    "\t# delete 메소드 (delete - current 노드 삭제, 인접 노드의 current, next 변경, 데이터 개수 변경)\n",
    "\tdef delete(self):\n",
    "\t\tpop_data = self.current.data\n",
    "\n",
    "\t\tif self.current is self.tail:\n",
    "\t\t\tself.tail = self.before\n",
    "\t\n",
    "\t\tself.before.next = self.current.next\n",
    "\t\t# 중요 : current가 next가 아닌 before로 변경된다.\n",
    "\t\tself.current = self.before \n",
    "\n",
    "\t\tself.num_of_data -= 1\n",
    "\n",
    "\t\treturn pop_data\n",
    "\n",
    "\t# first 메소드 (search1 - 맨 앞의 노드 검색, before, current 변경)\n",
    "\tdef first(self):\n",
    "\t\t# 데이터가 없는 경우 첫번째 노드도 없기 때문에 None 리턴\n",
    "\t\tif self.num_of_data == 0: \n",
    "\t\t\treturn None\n",
    "\n",
    "\t\tself.before = self.head\n",
    "\t\tself.current = self.head.next\n",
    "\n",
    "\t\treturn self.current.data\n",
    "\n",
    "\t# next 메소드 (search2 - current 노드의 다음 노드 검색, 이전에 first 메소드가 한번은 실행되어야 함)\n",
    "\tdef next(self):\n",
    "\t\tif self.current.next == None:\n",
    "\t\t\treturn None\n",
    "\n",
    "\t\tself.before = self.current\n",
    "\t\tself.current = self.current.next\n",
    "\n",
    "\t\treturn self.current.data\n",
    "\n",
    "\t# size 메소드\n",
    "\tdef size(self):\n",
    "\t\treturn self.num_of_data "
   ]
  },
  {
   "cell_type": "markdown",
   "id": "e8b6650c",
   "metadata": {},
   "source": [
    "## "
   ]
  }
 ],
 "metadata": {
  "kernelspec": {
   "display_name": "Python 3 (ipykernel)",
   "language": "python",
   "name": "python3"
  },
  "language_info": {
   "codemirror_mode": {
    "name": "ipython",
    "version": 3
   },
   "file_extension": ".py",
   "mimetype": "text/x-python",
   "name": "python",
   "nbconvert_exporter": "python",
   "pygments_lexer": "ipython3",
   "version": "3.9.16"
  },
  "toc": {
   "base_numbering": 1,
   "nav_menu": {},
   "number_sections": true,
   "sideBar": true,
   "skip_h1_title": false,
   "title_cell": "Table of Contents",
   "title_sidebar": "Contents",
   "toc_cell": false,
   "toc_position": {
    "height": "calc(100% - 180px)",
    "left": "10px",
    "top": "150px",
    "width": "384px"
   },
   "toc_section_display": true,
   "toc_window_display": true
  },
  "varInspector": {
   "cols": {
    "lenName": 16,
    "lenType": 16,
    "lenVar": 40
   },
   "kernels_config": {
    "python": {
     "delete_cmd_postfix": "",
     "delete_cmd_prefix": "del ",
     "library": "var_list.py",
     "varRefreshCmd": "print(var_dic_list())"
    },
    "r": {
     "delete_cmd_postfix": ") ",
     "delete_cmd_prefix": "rm(",
     "library": "var_list.r",
     "varRefreshCmd": "cat(var_dic_list()) "
    }
   },
   "types_to_exclude": [
    "module",
    "function",
    "builtin_function_or_method",
    "instance",
    "_Feature"
   ],
   "window_display": false
  }
 },
 "nbformat": 4,
 "nbformat_minor": 5
}
