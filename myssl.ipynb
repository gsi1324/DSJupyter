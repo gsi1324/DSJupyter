{
 "cells": [
  {
   "cell_type": "markdown",
   "id": "ca100296",
   "metadata": {
    "hide_input": false
   },
   "source": [
    "# 과제내용\n",
    " ## 이미 제공한 ssl.py에 다음 3가지 기능(함수)을 추가합니다.\n",
    "    • traverse_all()\n",
    "       – head부터 tail까지 각 노드를 순차적으로 탐색하며 각 노드의 data를 print한다.\n",
    "       – 출력 형식:  head -> (100) -> (72) -> (325) -> null\n",
    "    •  insert_at(position, new_data)\n",
    "       – 리스트의 주어진 위치(position)에 new_data를 삽입한다.\n",
    "       – 이 때, 맨 첫 원소의 위치는 1로 정하며, 0 이하의 position 값이 입력되면 error 문을 출력한다.\n",
    "       – 만일 position이 현재 리스트의 크기(원소 갯수)보다 크면 맨 마지막에 new_data를 삽입한다.\n",
    "    • remove(key)\n",
    "       – 리스트의 원소 가운데 key값과 일치하는 원소를 모두 삭제하고, 리스트를 수정한다.\n",
    "       – 이 때, 처리 결과를 다음 예와 같이 출력한다.\n",
    "           * 3번째 원소(key)를 삭제합니다. \n",
    "           * 해당하는 원소가 없습니다."
   ]
  },
  {
   "cell_type": "markdown",
   "id": "a94410be",
   "metadata": {},
   "source": [
    "## 원본 ssl.py"
   ]
  },
  {
   "cell_type": "code",
   "execution_count": 39,
   "id": "3418e6c9",
   "metadata": {
    "hide_input": false
   },
   "outputs": [],
   "source": [
    "# Node 클래스 정의\n",
    "class Node:\n",
    "\n",
    "    def __init__(self, data):\n",
    "        self.data = data\n",
    "        self.next = None\n",
    "\n",
    "\n",
    "# LinkedList 클래스 정의\n",
    "class LinkedList:\n",
    "\n",
    "    # 초기화 메소드\n",
    "    def __init__(self):\n",
    "        dummy = Node(\"dummy\")\n",
    "        self.head = dummy\n",
    "        self.tail = dummy\n",
    "\n",
    "        self.current = None\n",
    "        self.before = None\n",
    "\n",
    "        self.num_of_data = 0\n",
    "\n",
    "    # append 메소드 (insert - 맨 뒤에 노드 추가, tail과 node의 next, 데이터 개수 변경)\n",
    "    def append(self, data):\n",
    "        new_node = Node(data)\n",
    "        self.tail.next = new_node\n",
    "        self.tail = new_node\n",
    "\n",
    "        self.num_of_data += 1\n",
    "\n",
    "    # delete 메소드 (delete - current 노드 삭제, 인접 노드의 current, next 변경, 데이터 개수 변경)\n",
    "    def delete(self):\n",
    "        pop_data = self.current.data\n",
    "\n",
    "        if self.current is self.tail:\n",
    "            self.tail = self.before\n",
    "\n",
    "        self.before.next = self.current.next\n",
    "        # 중요 : current가 next가 아닌 before로 변경된다.\n",
    "        self.current = self.before\n",
    "\n",
    "        self.num_of_data -= 1\n",
    "\n",
    "        return pop_data\n",
    "\n",
    "    # first 메소드 (search1 - 맨 앞의 노드 검색, before, current 변경)\n",
    "    def first(self):\n",
    "        # 데이터가 없는 경우 첫번째 노드도 없기 때문에 None 리턴\n",
    "        if self.num_of_data == 0:\n",
    "            return None\n",
    "\n",
    "        self.before = self.head\n",
    "        self.current = self.head.next\n",
    "\n",
    "        return self.current.data\n",
    "\n",
    "    # next 메소드 (search2 - current 노드의 다음 노드 검색, 이전에 first 메소드가 한번은 실행되어야 함)\n",
    "    def next(self):\n",
    "        if self.current.next == None:\n",
    "            return None\n",
    "\n",
    "        self.before = self.current\n",
    "        self.current = self.current.next\n",
    "\n",
    "        return self.current.data\n",
    "\n",
    "    # size 메소드\n",
    "    def size(self):\n",
    "        return self.num_of_data"
   ]
  },
  {
   "cell_type": "markdown",
   "id": "81c8bbd7",
   "metadata": {},
   "source": [
    "## 1.3 traverse_all()\n",
    "    – head부터 tail까지 각 노드를 순차적으로 탐색하며 각 노드의 data를 print한다.\n",
    "    – 출력 형식:  head -> (100) -> (72) -> (325) -> null"
   ]
  },
  {
   "cell_type": "code",
   "execution_count": 44,
   "id": "a8d893a3",
   "metadata": {},
   "outputs": [],
   "source": [
    "def traverse_all(self):\n",
    "    if self.num_of_data == 0:\n",
    "        print(\"Empty LinkedList\")\n",
    "        return None\n",
    "\n",
    "    self.first()\n",
    "\n",
    "    print('head', end='')\n",
    "    while self.current.next != None:\n",
    "        print(f'-> {self.current.data} ', end='')\n",
    "        self.next()\n",
    "\n",
    "    #self.first() 함수가 current의 다음이 None일때 current와 before의 위치를 옮기지 않으므로 마지막 원소만 따로 처리해준다.\n",
    "    print(f'-> {self.current.data} -> null')"
   ]
  },
  {
   "cell_type": "code",
   "execution_count": 42,
   "id": "764076a5",
   "metadata": {
    "hide_input": true
   },
   "outputs": [],
   "source": [
    "# Node 클래스 정의\n",
    "class Node:\n",
    "\n",
    "    def __init__(self, data):\n",
    "        self.data = data\n",
    "        self.next = None\n",
    "\n",
    "\n",
    "# LinkedList 클래스 정의\n",
    "class LinkedList:\n",
    "\n",
    "    # 초기화 메소드\n",
    "    def __init__(self):\n",
    "        dummy = Node(\"dummy\")\n",
    "        self.head = dummy\n",
    "        self.tail = dummy\n",
    "\n",
    "        self.current = None\n",
    "        self.before = None\n",
    "\n",
    "        self.num_of_data = 0\n",
    "\n",
    "    # append 메소드 (insert - 맨 뒤에 노드 추가, tail과 node의 next, 데이터 개수 변경)\n",
    "    def append(self, data):\n",
    "        new_node = Node(data)\n",
    "        self.tail.next = new_node\n",
    "        self.tail = new_node\n",
    "\n",
    "        self.num_of_data += 1\n",
    "\n",
    "    # delete 메소드 (delete - current 노드 삭제, 인접 노드의 current, next 변경, 데이터 개수 변경)\n",
    "    def delete(self):\n",
    "        pop_data = self.current.data\n",
    "\n",
    "        if self.current is self.tail:\n",
    "            self.tail = self.before\n",
    "\n",
    "        self.before.next = self.current.next\n",
    "        # 중요 : current가 next가 아닌 before로 변경된다.\n",
    "        self.current = self.before\n",
    "\n",
    "        self.num_of_data -= 1\n",
    "\n",
    "        return pop_data\n",
    "\n",
    "    # first 메소드 (search1 - 맨 앞의 노드 검색, before, current 변경)\n",
    "    def first(self):\n",
    "        # 데이터가 없는 경우 첫번째 노드도 없기 때문에 None 리턴\n",
    "        if self.num_of_data == 0:\n",
    "            return None\n",
    "\n",
    "        self.before = self.head\n",
    "        self.current = self.head.next\n",
    "\n",
    "        return self.current.data\n",
    "\n",
    "    # next 메소드 (search2 - current 노드의 다음 노드 검색, 이전에 first 메소드가 한번은 실행되어야 함)\n",
    "    def next(self):\n",
    "        if self.current.next == None:\n",
    "            return None\n",
    "\n",
    "        self.before = self.current\n",
    "        self.current = self.current.next\n",
    "\n",
    "        return self.current.data\n",
    "\n",
    "    # size 메소드\n",
    "    def size(self):\n",
    "        return self.num_of_data\n",
    "\n",
    "    def traverse_all(self):\n",
    "        if self.num_of_data == 0:\n",
    "            print(\"Empty LinkedList\")\n",
    "            return None\n",
    "\n",
    "        self.first()\n",
    "\n",
    "        print('head', end='')\n",
    "        while self.current.next != None:\n",
    "            print(f'-> {self.current.data} ', end='')\n",
    "            self.next()\n",
    "\n",
    "        #self.first() 함수가 current의 다음이 None일때 current와 before의 위치를 옮기지 않으므로 마지막 원소만 따로 처리해준다.\n",
    "        print(f'-> {self.current.data} -> null')"
   ]
  },
  {
   "cell_type": "markdown",
   "id": "c9b07be1",
   "metadata": {},
   "source": [
    "    - self.num_of_data를 통해 리스트가 비어있는지 확인하고, 비었으면 아무것도 하지 않는 return None\n",
    "    - self.first() 함수로 current와 before를 head(dummy node)와 그 다음노드로 설정해준다.\n",
    "    - 조건을 self.current로 해놓으면 self.next() 함수가 current의 다음이 None일때 current와 before의 위치를 옮기지 않으므로 무한루프에 걸린다.\n",
    "    -그러면 결국 마지막 전까지만 노드가 가고 마지막 노드는 따로 처리해줘야 한다."
   ]
  },
  {
   "cell_type": "markdown",
   "id": "827e5c9b",
   "metadata": {},
   "source": [
    "### 실행 및 결과"
   ]
  },
  {
   "cell_type": "code",
   "execution_count": 45,
   "id": "9acb99ea",
   "metadata": {},
   "outputs": [
    {
     "name": "stdout",
     "output_type": "stream",
     "text": [
      "head-> 1 -> 2 -> 3 -> 4 -> 5 -> null\n"
     ]
    }
   ],
   "source": [
    "test = LinkedList()\n",
    "test.append(1)\n",
    "test.append(2)\n",
    "test.append(3)\n",
    "test.append(4)\n",
    "test.append(5)\n",
    "test.traverse_all()"
   ]
  },
  {
   "cell_type": "code",
   "execution_count": null,
   "id": "eca3087b",
   "metadata": {},
   "outputs": [],
   "source": []
  }
 ],
 "metadata": {
  "kernelspec": {
   "display_name": "Python 3 (ipykernel)",
   "language": "python",
   "name": "python3"
  },
  "language_info": {
   "codemirror_mode": {
    "name": "ipython",
    "version": 3
   },
   "file_extension": ".py",
   "mimetype": "text/x-python",
   "name": "python",
   "nbconvert_exporter": "python",
   "pygments_lexer": "ipython3",
   "version": "3.9.16"
  },
  "toc": {
   "base_numbering": 1,
   "nav_menu": {},
   "number_sections": true,
   "sideBar": true,
   "skip_h1_title": false,
   "title_cell": "Table of Contents",
   "title_sidebar": "Contents",
   "toc_cell": false,
   "toc_position": {
    "height": "calc(100% - 180px)",
    "left": "10px",
    "top": "150px",
    "width": "384px"
   },
   "toc_section_display": true,
   "toc_window_display": true
  },
  "varInspector": {
   "cols": {
    "lenName": 16,
    "lenType": 16,
    "lenVar": 40
   },
   "kernels_config": {
    "python": {
     "delete_cmd_postfix": "",
     "delete_cmd_prefix": "del ",
     "library": "var_list.py",
     "varRefreshCmd": "print(var_dic_list())"
    },
    "r": {
     "delete_cmd_postfix": ") ",
     "delete_cmd_prefix": "rm(",
     "library": "var_list.r",
     "varRefreshCmd": "cat(var_dic_list()) "
    }
   },
   "types_to_exclude": [
    "module",
    "function",
    "builtin_function_or_method",
    "instance",
    "_Feature"
   ],
   "window_display": true
  }
 },
 "nbformat": 4,
 "nbformat_minor": 5
}
